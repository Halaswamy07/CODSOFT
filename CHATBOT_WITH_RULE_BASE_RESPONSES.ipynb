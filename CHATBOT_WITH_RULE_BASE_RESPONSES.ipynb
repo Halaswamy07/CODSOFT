{
 "cells": [
  {
   "cell_type": "code",
   "execution_count": 6,
   "id": "9fd3658e-bd08-41bb-bfe1-9afdf63db544",
   "metadata": {},
   "outputs": [],
   "source": [
    "import tkinter as tk\n",
    "from tkinter import ttk\n",
    "from tkinter.scrolledtext import ScrolledText\n",
    "\n",
    "# Define chatbot responses\n",
    "responses = {\n",
    "    \"hi\": \"Hello! How can I assist you?\",\n",
    "    \"what courses are available?\": \"We offer a variety of courses including Computer Science, Engineering, Business, and more. Which one are you interested in?\",\n",
    "    \"how can I apply for admission?\": \"You can apply for admission by visiting our website and filling out the online application form. Do you need any assistance with the application process?\",\n",
    "    \"what are the admission requirements?\": \"Admission requirements vary depending on the course you're interested in. Generally, you'll need to submit your academic transcripts, standardized test scores, and letters of recommendation. Would you like more information about a specific course?\",\n",
    "    \"what is the tuition fee?\": \"Tuition fees vary depending on the course and program. You can find detailed information about tuition fees on our website or contact our admissions office for assistance.\",\n",
    "    \"what are the class timings?\": \"Class timings depend on the course and the semester schedule. Once you're admitted, you'll receive a timetable with your class schedule. Do you have any other questions?\",\n",
    "    \"how can I contact the admissions office?\": \"You can contact the admissions office by phone at [phone number] or via email at [email address]. Our office hours are [office hours].\",\n",
    "    \"thank you\": \"You're welcome! If you have any more questions, feel free to ask.\",\n",
    "    # Add more responses here\n",
    "}\n",
    "\n",
    "# Function to handle sending message\n",
    "def send_message():\n",
    "    user_message = user_input.get().lower().strip()\n",
    "    chat_box.config(state=tk.NORMAL)\n",
    "    chat_box.insert(tk.END, \"You: \" + user_message + \"\\n\")\n",
    "    if user_message in responses:\n",
    "        chat_box.insert(tk.END, \"Bot: \" + responses[user_message] + \"\\n\")\n",
    "    else:\n",
    "        chat_box.insert(tk.END, \"Bot: I'm sorry, I don't understand that.\\n\")\n",
    "    chat_box.config(state=tk.DISABLED)\n",
    "    user_input.delete(0, tk.END)\n",
    "\n",
    "# Create GUI\n",
    "root = tk.Tk()\n",
    "root.title(\"Simple Chatbot\")\n",
    "\n",
    "# Chat box\n",
    "chat_box = ScrolledText(root, wrap=tk.WORD, width=50, height=20)\n",
    "chat_box.config(state=tk.DISABLED)\n",
    "chat_box.pack(padx=10, pady=10)\n",
    "\n",
    "# User input\n",
    "user_input = ttk.Entry(root, width=50)\n",
    "user_input.pack(side=tk.LEFT, padx=10, pady=5)\n",
    "\n",
    "# Send button\n",
    "send_button = ttk.Button(root, text=\"Send\", command=send_message)\n",
    "send_button.pack(side=tk.RIGHT, padx=10, pady=5)\n",
    "\n",
    "root.mainloop()\n"
   ]
  },
  {
   "cell_type": "code",
   "execution_count": null,
   "id": "9c1d1eed-ea0b-4458-8fd7-d5d783ea9c4d",
   "metadata": {},
   "outputs": [],
   "source": []
  }
 ],
 "metadata": {
  "kernelspec": {
   "display_name": "Python 3 (ipykernel)",
   "language": "python",
   "name": "python3"
  },
  "language_info": {
   "codemirror_mode": {
    "name": "ipython",
    "version": 3
   },
   "file_extension": ".py",
   "mimetype": "text/x-python",
   "name": "python",
   "nbconvert_exporter": "python",
   "pygments_lexer": "ipython3",
   "version": "3.11.7"
  }
 },
 "nbformat": 4,
 "nbformat_minor": 5
}
